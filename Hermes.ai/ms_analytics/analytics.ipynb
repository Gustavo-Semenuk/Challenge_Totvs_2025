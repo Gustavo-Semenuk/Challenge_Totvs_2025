{
 "cells": [
  {
   "cell_type": "markdown",
   "id": "a9d9a5e0",
   "metadata": {},
   "source": [
    "## Lista de Arquivos no AWS S3"
   ]
  },
  {
   "cell_type": "code",
   "execution_count": 32,
   "id": "a66acafd",
   "metadata": {},
   "outputs": [
    {
     "name": "stdout",
     "output_type": "stream",
     "text": [
      "Arquivos disponíveis: ['Challenge_TOTVS_2025_MassaDados_v1/clientes_desde.csv', 'Challenge_TOTVS_2025_MassaDados_v1/contratacoes_ultimos_12_meses.csv', 'Challenge_TOTVS_2025_MassaDados_v1/dados_clientes.csv', 'Challenge_TOTVS_2025_MassaDados_v1/dicionario.xlsx', 'Challenge_TOTVS_2025_MassaDados_v1/historico.csv', 'Challenge_TOTVS_2025_MassaDados_v1/mrr.csv', 'Challenge_TOTVS_2025_MassaDados_v1/nps_relacional.csv', 'Challenge_TOTVS_2025_MassaDados_v1/nps_transacional_aquisicao.csv', 'Challenge_TOTVS_2025_MassaDados_v1/nps_transacional_implantacao.csv', 'Challenge_TOTVS_2025_MassaDados_v1/nps_transacional_onboarding.csv', 'Challenge_TOTVS_2025_MassaDados_v1/nps_transacional_produto.csv', 'Challenge_TOTVS_2025_MassaDados_v1/nps_transacional_suporte.csv', 'Challenge_TOTVS_2025_MassaDados_v1/telemetria_1.csv', 'Challenge_TOTVS_2025_MassaDados_v1/telemetria_10.csv', 'Challenge_TOTVS_2025_MassaDados_v1/telemetria_11.csv', 'Challenge_TOTVS_2025_MassaDados_v1/telemetria_2.csv', 'Challenge_TOTVS_2025_MassaDados_v1/telemetria_3.csv', 'Challenge_TOTVS_2025_MassaDados_v1/telemetria_4.csv', 'Challenge_TOTVS_2025_MassaDados_v1/telemetria_5.csv', 'Challenge_TOTVS_2025_MassaDados_v1/telemetria_6.csv', 'Challenge_TOTVS_2025_MassaDados_v1/telemetria_7.csv', 'Challenge_TOTVS_2025_MassaDados_v1/telemetria_8.csv', 'Challenge_TOTVS_2025_MassaDados_v1/telemetria_9.csv', 'Challenge_TOTVS_2025_MassaDados_v1/tickets.csv']\n"
     ]
    },
    {
     "data": {
      "text/plain": [
       "['Challenge_TOTVS_2025_MassaDados_v1/clientes_desde.csv',\n",
       " 'Challenge_TOTVS_2025_MassaDados_v1/contratacoes_ultimos_12_meses.csv',\n",
       " 'Challenge_TOTVS_2025_MassaDados_v1/dados_clientes.csv',\n",
       " 'Challenge_TOTVS_2025_MassaDados_v1/dicionario.xlsx',\n",
       " 'Challenge_TOTVS_2025_MassaDados_v1/historico.csv',\n",
       " 'Challenge_TOTVS_2025_MassaDados_v1/mrr.csv',\n",
       " 'Challenge_TOTVS_2025_MassaDados_v1/nps_relacional.csv',\n",
       " 'Challenge_TOTVS_2025_MassaDados_v1/nps_transacional_aquisicao.csv',\n",
       " 'Challenge_TOTVS_2025_MassaDados_v1/nps_transacional_implantacao.csv',\n",
       " 'Challenge_TOTVS_2025_MassaDados_v1/nps_transacional_onboarding.csv',\n",
       " 'Challenge_TOTVS_2025_MassaDados_v1/nps_transacional_produto.csv',\n",
       " 'Challenge_TOTVS_2025_MassaDados_v1/nps_transacional_suporte.csv',\n",
       " 'Challenge_TOTVS_2025_MassaDados_v1/telemetria_1.csv',\n",
       " 'Challenge_TOTVS_2025_MassaDados_v1/telemetria_10.csv',\n",
       " 'Challenge_TOTVS_2025_MassaDados_v1/telemetria_11.csv',\n",
       " 'Challenge_TOTVS_2025_MassaDados_v1/telemetria_2.csv',\n",
       " 'Challenge_TOTVS_2025_MassaDados_v1/telemetria_3.csv',\n",
       " 'Challenge_TOTVS_2025_MassaDados_v1/telemetria_4.csv',\n",
       " 'Challenge_TOTVS_2025_MassaDados_v1/telemetria_5.csv',\n",
       " 'Challenge_TOTVS_2025_MassaDados_v1/telemetria_6.csv',\n",
       " 'Challenge_TOTVS_2025_MassaDados_v1/telemetria_7.csv',\n",
       " 'Challenge_TOTVS_2025_MassaDados_v1/telemetria_8.csv',\n",
       " 'Challenge_TOTVS_2025_MassaDados_v1/telemetria_9.csv',\n",
       " 'Challenge_TOTVS_2025_MassaDados_v1/tickets.csv']"
      ]
     },
     "execution_count": 32,
     "metadata": {},
     "output_type": "execute_result"
    }
   ],
   "source": [
    "import sys\n",
    "import pandas as pd\n",
    "import numpy as np\n",
    "sys.path.append(r\"D:\\Faculdade\\Challenge_Totvs_2025\\Hermes.ai\")\n",
    "\n",
    "from ms_analytics.view.view_analytics_s3 import listar_arquivos_disponiveis\n",
    "from ms_analytics.view.view_analytics_s3 import carregar_arquivo_para_dataframe\n",
    "\n",
    "listar_arquivos_disponiveis()"
   ]
  },
  {
   "cell_type": "code",
   "execution_count": null,
   "id": "cfed2c3a",
   "metadata": {},
   "outputs": [
    {
     "name": "stdout",
     "output_type": "stream",
     "text": [
      "  CLIENTE CLIENTE_DESDE\n",
      "0  TFDICB    2023-01-27\n",
      "1  TFCU91    2021-01-26\n",
      "2  TFDDYV    2022-07-18\n",
      "3  TEZBRW    2022-10-28\n",
      "4  TEZCXN    2013-05-24\n"
     ]
    }
   ],
   "source": [
    "arquivo = carregar_arquivo_para_dataframe('Challenge_TOTVS_2025_MassaDados_v1/clientes_desde.csv')\n",
    "\n",
    "df = arquivo\n",
    "\n",
    "# Supondo que seu DataFrame se chama df:\n",
    "df_corrigido = df.iloc[:, 0].str.split(';', expand=True)\n",
    "\n",
    "# Nomear as colunas (opcional, se a primeira linha for o header)\n",
    "df_corrigido.columns = ['CLIENTE', 'CLIENTE_DESDE']\n",
    "\n",
    "print(df_corrigido.head())"
   ]
  },
  {
   "cell_type": "code",
   "execution_count": 40,
   "id": "cd14a648",
   "metadata": {},
   "outputs": [
    {
     "name": "stdout",
     "output_type": "stream",
     "text": [
      "Arquivos disponíveis: ['Challenge_TOTVS_2025_MassaDados_v1/clientes_desde.csv', 'Challenge_TOTVS_2025_MassaDados_v1/contratacoes_ultimos_12_meses.csv', 'Challenge_TOTVS_2025_MassaDados_v1/dados_clientes.csv', 'Challenge_TOTVS_2025_MassaDados_v1/dicionario.xlsx', 'Challenge_TOTVS_2025_MassaDados_v1/historico.csv', 'Challenge_TOTVS_2025_MassaDados_v1/mrr.csv', 'Challenge_TOTVS_2025_MassaDados_v1/nps_relacional.csv', 'Challenge_TOTVS_2025_MassaDados_v1/nps_transacional_aquisicao.csv', 'Challenge_TOTVS_2025_MassaDados_v1/nps_transacional_implantacao.csv', 'Challenge_TOTVS_2025_MassaDados_v1/nps_transacional_onboarding.csv', 'Challenge_TOTVS_2025_MassaDados_v1/nps_transacional_produto.csv', 'Challenge_TOTVS_2025_MassaDados_v1/nps_transacional_suporte.csv', 'Challenge_TOTVS_2025_MassaDados_v1/telemetria_1.csv', 'Challenge_TOTVS_2025_MassaDados_v1/telemetria_10.csv', 'Challenge_TOTVS_2025_MassaDados_v1/telemetria_11.csv', 'Challenge_TOTVS_2025_MassaDados_v1/telemetria_2.csv', 'Challenge_TOTVS_2025_MassaDados_v1/telemetria_3.csv', 'Challenge_TOTVS_2025_MassaDados_v1/telemetria_4.csv', 'Challenge_TOTVS_2025_MassaDados_v1/telemetria_5.csv', 'Challenge_TOTVS_2025_MassaDados_v1/telemetria_6.csv', 'Challenge_TOTVS_2025_MassaDados_v1/telemetria_7.csv', 'Challenge_TOTVS_2025_MassaDados_v1/telemetria_8.csv', 'Challenge_TOTVS_2025_MassaDados_v1/telemetria_9.csv', 'Challenge_TOTVS_2025_MassaDados_v1/tickets.csv']\n",
      "  CLIENTE CLIENTE_DESDE\n",
      "0  TFDICB    2023-01-27\n",
      "1  TFCU91    2021-01-26\n",
      "2  TFDDYV    2022-07-18\n",
      "3  TEZBRW    2022-10-28\n",
      "4  TEZCXN    2013-05-24\n"
     ]
    },
    {
     "ename": "AttributeError",
     "evalue": "Can only use .str accessor with string values!",
     "output_type": "error",
     "traceback": [
      "\u001b[1;31m---------------------------------------------------------------------------\u001b[0m",
      "\u001b[1;31mAttributeError\u001b[0m                            Traceback (most recent call last)",
      "Cell \u001b[1;32mIn[40], line 3\u001b[0m\n\u001b[0;32m      1\u001b[0m \u001b[38;5;28;01mfor\u001b[39;00m i \u001b[38;5;129;01min\u001b[39;00m listar_arquivos_disponiveis():\n\u001b[0;32m      2\u001b[0m     df \u001b[38;5;241m=\u001b[39m carregar_arquivo_para_dataframe(i)\n\u001b[1;32m----> 3\u001b[0m     df_corrigido \u001b[38;5;241m=\u001b[39m \u001b[43mdf\u001b[49m\u001b[38;5;241;43m.\u001b[39;49m\u001b[43miloc\u001b[49m\u001b[43m[\u001b[49m\u001b[43m:\u001b[49m\u001b[43m,\u001b[49m\u001b[43m \u001b[49m\u001b[38;5;241;43m0\u001b[39;49m\u001b[43m]\u001b[49m\u001b[38;5;241;43m.\u001b[39;49m\u001b[43mstr\u001b[49m\u001b[38;5;241m.\u001b[39msplit(\u001b[38;5;124m'\u001b[39m\u001b[38;5;124m;\u001b[39m\u001b[38;5;124m'\u001b[39m, expand\u001b[38;5;241m=\u001b[39m\u001b[38;5;28;01mTrue\u001b[39;00m)\n\u001b[0;32m      4\u001b[0m     df_corrigido\u001b[38;5;241m.\u001b[39mcolumns \u001b[38;5;241m=\u001b[39m [\u001b[38;5;124m'\u001b[39m\u001b[38;5;124mCLIENTE\u001b[39m\u001b[38;5;124m'\u001b[39m, \u001b[38;5;124m'\u001b[39m\u001b[38;5;124mCLIENTE_DESDE\u001b[39m\u001b[38;5;124m'\u001b[39m]\n\u001b[0;32m      5\u001b[0m     \u001b[38;5;28mprint\u001b[39m(df_corrigido\u001b[38;5;241m.\u001b[39mhead())\n",
      "File \u001b[1;32md:\\Faculdade\\Challenge_Totvs_2025\\Hermes.ai\\venv\\lib\\site-packages\\pandas\\core\\generic.py:5989\u001b[0m, in \u001b[0;36mNDFrame.__getattr__\u001b[1;34m(self, name)\u001b[0m\n\u001b[0;32m   5982\u001b[0m \u001b[38;5;28;01mif\u001b[39;00m (\n\u001b[0;32m   5983\u001b[0m     name \u001b[38;5;129;01mnot\u001b[39;00m \u001b[38;5;129;01min\u001b[39;00m \u001b[38;5;28mself\u001b[39m\u001b[38;5;241m.\u001b[39m_internal_names_set\n\u001b[0;32m   5984\u001b[0m     \u001b[38;5;129;01mand\u001b[39;00m name \u001b[38;5;129;01mnot\u001b[39;00m \u001b[38;5;129;01min\u001b[39;00m \u001b[38;5;28mself\u001b[39m\u001b[38;5;241m.\u001b[39m_metadata\n\u001b[0;32m   5985\u001b[0m     \u001b[38;5;129;01mand\u001b[39;00m name \u001b[38;5;129;01mnot\u001b[39;00m \u001b[38;5;129;01min\u001b[39;00m \u001b[38;5;28mself\u001b[39m\u001b[38;5;241m.\u001b[39m_accessors\n\u001b[0;32m   5986\u001b[0m     \u001b[38;5;129;01mand\u001b[39;00m \u001b[38;5;28mself\u001b[39m\u001b[38;5;241m.\u001b[39m_info_axis\u001b[38;5;241m.\u001b[39m_can_hold_identifiers_and_holds_name(name)\n\u001b[0;32m   5987\u001b[0m ):\n\u001b[0;32m   5988\u001b[0m     \u001b[38;5;28;01mreturn\u001b[39;00m \u001b[38;5;28mself\u001b[39m[name]\n\u001b[1;32m-> 5989\u001b[0m \u001b[38;5;28;01mreturn\u001b[39;00m \u001b[38;5;28;43mobject\u001b[39;49m\u001b[38;5;241;43m.\u001b[39;49m\u001b[38;5;21;43m__getattribute__\u001b[39;49m\u001b[43m(\u001b[49m\u001b[38;5;28;43mself\u001b[39;49m\u001b[43m,\u001b[49m\u001b[43m \u001b[49m\u001b[43mname\u001b[49m\u001b[43m)\u001b[49m\n",
      "File \u001b[1;32md:\\Faculdade\\Challenge_Totvs_2025\\Hermes.ai\\venv\\lib\\site-packages\\pandas\\core\\accessor.py:224\u001b[0m, in \u001b[0;36mCachedAccessor.__get__\u001b[1;34m(self, obj, cls)\u001b[0m\n\u001b[0;32m    221\u001b[0m \u001b[38;5;28;01mif\u001b[39;00m obj \u001b[38;5;129;01mis\u001b[39;00m \u001b[38;5;28;01mNone\u001b[39;00m:\n\u001b[0;32m    222\u001b[0m     \u001b[38;5;66;03m# we're accessing the attribute of the class, i.e., Dataset.geo\u001b[39;00m\n\u001b[0;32m    223\u001b[0m     \u001b[38;5;28;01mreturn\u001b[39;00m \u001b[38;5;28mself\u001b[39m\u001b[38;5;241m.\u001b[39m_accessor\n\u001b[1;32m--> 224\u001b[0m accessor_obj \u001b[38;5;241m=\u001b[39m \u001b[38;5;28;43mself\u001b[39;49m\u001b[38;5;241;43m.\u001b[39;49m\u001b[43m_accessor\u001b[49m\u001b[43m(\u001b[49m\u001b[43mobj\u001b[49m\u001b[43m)\u001b[49m\n\u001b[0;32m    225\u001b[0m \u001b[38;5;66;03m# Replace the property with the accessor object. Inspired by:\u001b[39;00m\n\u001b[0;32m    226\u001b[0m \u001b[38;5;66;03m# https://www.pydanny.com/cached-property.html\u001b[39;00m\n\u001b[0;32m    227\u001b[0m \u001b[38;5;66;03m# We need to use object.__setattr__ because we overwrite __setattr__ on\u001b[39;00m\n\u001b[0;32m    228\u001b[0m \u001b[38;5;66;03m# NDFrame\u001b[39;00m\n\u001b[0;32m    229\u001b[0m \u001b[38;5;28mobject\u001b[39m\u001b[38;5;241m.\u001b[39m\u001b[38;5;21m__setattr__\u001b[39m(obj, \u001b[38;5;28mself\u001b[39m\u001b[38;5;241m.\u001b[39m_name, accessor_obj)\n",
      "File \u001b[1;32md:\\Faculdade\\Challenge_Totvs_2025\\Hermes.ai\\venv\\lib\\site-packages\\pandas\\core\\strings\\accessor.py:181\u001b[0m, in \u001b[0;36mStringMethods.__init__\u001b[1;34m(self, data)\u001b[0m\n\u001b[0;32m    178\u001b[0m \u001b[38;5;28;01mdef\u001b[39;00m\u001b[38;5;250m \u001b[39m\u001b[38;5;21m__init__\u001b[39m(\u001b[38;5;28mself\u001b[39m, data) \u001b[38;5;241m-\u001b[39m\u001b[38;5;241m>\u001b[39m \u001b[38;5;28;01mNone\u001b[39;00m:\n\u001b[0;32m    179\u001b[0m     \u001b[38;5;28;01mfrom\u001b[39;00m\u001b[38;5;250m \u001b[39m\u001b[38;5;21;01mpandas\u001b[39;00m\u001b[38;5;21;01m.\u001b[39;00m\u001b[38;5;21;01mcore\u001b[39;00m\u001b[38;5;21;01m.\u001b[39;00m\u001b[38;5;21;01marrays\u001b[39;00m\u001b[38;5;21;01m.\u001b[39;00m\u001b[38;5;21;01mstring_\u001b[39;00m\u001b[38;5;250m \u001b[39m\u001b[38;5;28;01mimport\u001b[39;00m StringDtype\n\u001b[1;32m--> 181\u001b[0m     \u001b[38;5;28mself\u001b[39m\u001b[38;5;241m.\u001b[39m_inferred_dtype \u001b[38;5;241m=\u001b[39m \u001b[38;5;28;43mself\u001b[39;49m\u001b[38;5;241;43m.\u001b[39;49m\u001b[43m_validate\u001b[49m\u001b[43m(\u001b[49m\u001b[43mdata\u001b[49m\u001b[43m)\u001b[49m\n\u001b[0;32m    182\u001b[0m     \u001b[38;5;28mself\u001b[39m\u001b[38;5;241m.\u001b[39m_is_categorical \u001b[38;5;241m=\u001b[39m is_categorical_dtype(data\u001b[38;5;241m.\u001b[39mdtype)\n\u001b[0;32m    183\u001b[0m     \u001b[38;5;28mself\u001b[39m\u001b[38;5;241m.\u001b[39m_is_string \u001b[38;5;241m=\u001b[39m \u001b[38;5;28misinstance\u001b[39m(data\u001b[38;5;241m.\u001b[39mdtype, StringDtype)\n",
      "File \u001b[1;32md:\\Faculdade\\Challenge_Totvs_2025\\Hermes.ai\\venv\\lib\\site-packages\\pandas\\core\\strings\\accessor.py:235\u001b[0m, in \u001b[0;36mStringMethods._validate\u001b[1;34m(data)\u001b[0m\n\u001b[0;32m    232\u001b[0m inferred_dtype \u001b[38;5;241m=\u001b[39m lib\u001b[38;5;241m.\u001b[39minfer_dtype(values, skipna\u001b[38;5;241m=\u001b[39m\u001b[38;5;28;01mTrue\u001b[39;00m)\n\u001b[0;32m    234\u001b[0m \u001b[38;5;28;01mif\u001b[39;00m inferred_dtype \u001b[38;5;129;01mnot\u001b[39;00m \u001b[38;5;129;01min\u001b[39;00m allowed_types:\n\u001b[1;32m--> 235\u001b[0m     \u001b[38;5;28;01mraise\u001b[39;00m \u001b[38;5;167;01mAttributeError\u001b[39;00m(\u001b[38;5;124m\"\u001b[39m\u001b[38;5;124mCan only use .str accessor with string values!\u001b[39m\u001b[38;5;124m\"\u001b[39m)\n\u001b[0;32m    236\u001b[0m \u001b[38;5;28;01mreturn\u001b[39;00m inferred_dtype\n",
      "\u001b[1;31mAttributeError\u001b[0m: Can only use .str accessor with string values!"
     ]
    }
   ],
   "source": [
    "for i in listar_arquivos_disponiveis():\n",
    "    df = carregar_arquivo_para_dataframe(i)\n",
    "    df_corrigido = df.iloc[:, 0].str.split(';', expand=True)\n",
    "    df_corrigido.columns = ['CLIENTE', 'CLIENTE_DESDE']\n",
    "    print(df_corrigido.head())\n",
    "    \n"
   ]
  },
  {
   "cell_type": "code",
   "execution_count": null,
   "id": "5a338d88",
   "metadata": {
    "vscode": {
     "languageId": "sql"
    }
   },
   "outputs": [],
   "source": []
  }
 ],
 "metadata": {
  "kernelspec": {
   "display_name": "venv",
   "language": "python",
   "name": "python3"
  },
  "language_info": {
   "codemirror_mode": {
    "name": "ipython",
    "version": 3
   },
   "file_extension": ".py",
   "mimetype": "text/x-python",
   "name": "python",
   "nbconvert_exporter": "python",
   "pygments_lexer": "ipython3",
   "version": "3.8.8"
  }
 },
 "nbformat": 4,
 "nbformat_minor": 5
}
